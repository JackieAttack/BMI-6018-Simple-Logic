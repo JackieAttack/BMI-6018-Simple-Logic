{
 "cells": [
  {
   "cell_type": "markdown",
   "id": "e5f75fcf",
   "metadata": {},
   "source": [
    "# Jackie Bearnson   u0763123\n",
    "\n",
    "# BMI 6018 - Assignment: Simple Logic\n",
    "----------"
   ]
  },
  {
   "cell_type": "markdown",
   "id": "b4312520",
   "metadata": {},
   "source": [
    "# Problem 1 Stacking logical operators"
   ]
  },
  {
   "cell_type": "code",
   "execution_count": 1,
   "id": "4b8f3c06",
   "metadata": {},
   "outputs": [],
   "source": [
    "influenza_genome = [19, 15, 7, 9, 12, 6, 17, 20, 29, 14, 22, 8, 15, 12, 21, 25, 11, 10, 30, 4, 6, 24, 18, 21, 28, 22, 13, 19, 4, 23, 16, 25, 13, 28, 16, 29, 4, 3, 25, 13, 10, 26, 26, 18, 25, 28, 24, 18, 3, 9, 11, 29, 30, 16, 24, 5, 5, 25, 14, 7, 1, 15, 6, 6, 19, 19, 15, 2, 14, 7, 21, 5, 26, 25, 18, 18, 9, 7, 27, 4, 1, 23, 30, 25, 24, 29, 11, 16, 20, 15, 2, 9, 8, 13, 1, 13, 5, 17, 29, 25, 16, 13, 3, 30, 10, 21, 9, 18, 20, 14, 20, 19, 6, 4, 20, 5, 14, 5, 12, 27, 18, 28, 13, 30, 6, 9, 12, 9, 29, 4, 14, 22, 7, 25, 11, 12, 5, 24, 6, 3, 8, 3, 20, 24, 8, 23, 22, 11, 22, 10, 13, 14, 2, 6, 22, 22, 7, 6, 18, 28, 25, 4, 6, 24, 10, 24, 15, 18, 12, 24, 10, 16, 24, 21, 19, 24, 8, 8, 8, 10, 8, 15, 26, 14, 21, 18, 6, 10, 23, 2, 20, 15, 1, 4, 20, 8, 6, 1, 4, 15, 21, 26, 25, 1, 24, 15, 27, 8, 23, 4, 30, 22, 1, 3, 7, 16, 18, 29, 11, 4, 1, 29, 30, 16, 30, 10, 2, 26, 26, 7, 10, 15, 6, 25, 4, 7, 12, 24, 5, 8, 23, 16, 8, 3, 16, 1, 9, 4, 27, 26, 9, 25, 7, 14, 27, 21, 27, 28, 2, 2, 27, 22, 3, 23, 14, 16, 30, 12, 14, 8, 10, 5, 16, 12, 24, 3, 28, 9, 21, 7, 25, 9, 5, 3, 27, 7, 29, 25, 13, 11, 25, 21, 2, 14, 8, 17, 18, 23, 22, 12, 7, 26, 11, 25, 1, 23, 9, 12, 2, 4, 17, 27, 9, 13, 19, 15, 10, 12, 21, 25, 5, 1, 16, 17, 28, 23, 18, 10, 15, 18, 1, 11, 14, 10, 18, 12, 1, 23, 23, 25, 13, 27, 27, 6, 9, 11, 23, 6, 23, 14, 9, 15, 11, 24, 11, 29, 18, 6, 19, 16, 14, 26, 2, 14, 15, 25, 6, 21, 23, 25, 27, 5, 1, 17, 4, 7, 18, 8, 9, 10, 5, 21, 29, 9, 6, 2, 22, 12, 1, 13, 19, 6, 17, 21, 22, 26, 21, 10, 29, 8, 13, 10, 29, 6, 29, 16, 30, 5, 25, 14, 15, 15, 9, 24, 13, 5, 28, 18, 11, 21, 15, 12, 5, 16, 5, 29, 29, 29, 3, 10, 24, 16, 16, 12, 14, 6, 22, 21, 10, 10, 2, 14, 9, 29, 29, 2, 26, 11, 6, 7, 28, 10, 3, 24, 30, 2, 23, 9, 29, 27, 19, 1, 15, 11, 5, 7, 9, 26, 28, 27, 10, 20, 23, 29, 10, 15, 30, 13, 2, 11, 5, 9, 2, 30, 27, 14, 11, 20, 19, 1, 12, 10, 8, 6, 16, 3, 25, 5, 10, 24]"
   ]
  },
  {
   "cell_type": "markdown",
   "id": "a8b7fe9e",
   "metadata": {},
   "source": [
    "### 1.1 - add 1 to the value at the index 300."
   ]
  },
  {
   "cell_type": "code",
   "execution_count": 2,
   "id": "b929441b",
   "metadata": {},
   "outputs": [
    {
     "data": {
      "text/plain": [
       "8"
      ]
     },
     "execution_count": 2,
     "metadata": {},
     "output_type": "execute_result"
    }
   ],
   "source": [
    "influenza_genome[300] += 1\n",
    "influenza_genome[300]"
   ]
  },
  {
   "cell_type": "markdown",
   "id": "9ba682dc",
   "metadata": {},
   "source": [
    "### 1.2 - for the first 30 elements, if the value of the element is divisable by 3, multiply the value by 3."
   ]
  },
  {
   "cell_type": "code",
   "execution_count": 3,
   "id": "bbcf8f0b",
   "metadata": {},
   "outputs": [],
   "source": [
    "i = -1\n",
    "for x in influenza_genome[0:30]:\n",
    "    i += 1\n",
    "    if x % 3 == 0:\n",
    "        influenza_genome[i] = x * 3"
   ]
  },
  {
   "cell_type": "code",
   "execution_count": 4,
   "id": "c37f4353",
   "metadata": {},
   "outputs": [
    {
     "data": {
      "text/plain": [
       "[19,\n",
       " 45,\n",
       " 7,\n",
       " 27,\n",
       " 36,\n",
       " 18,\n",
       " 17,\n",
       " 20,\n",
       " 29,\n",
       " 14,\n",
       " 22,\n",
       " 8,\n",
       " 45,\n",
       " 36,\n",
       " 63,\n",
       " 25,\n",
       " 11,\n",
       " 10,\n",
       " 90,\n",
       " 4,\n",
       " 18,\n",
       " 72,\n",
       " 54,\n",
       " 63,\n",
       " 28,\n",
       " 22,\n",
       " 13,\n",
       " 19,\n",
       " 4,\n",
       " 23]"
      ]
     },
     "execution_count": 4,
     "metadata": {},
     "output_type": "execute_result"
    }
   ],
   "source": [
    "influenza_genome[0:30]"
   ]
  },
  {
   "cell_type": "markdown",
   "id": "5be837b1",
   "metadata": {},
   "source": [
    "### 1.3 - for the last 30 elements, if the index value at that point is divisable by 5, replace the value with \"a\"."
   ]
  },
  {
   "cell_type": "code",
   "execution_count": 5,
   "id": "37bebf6c",
   "metadata": {},
   "outputs": [],
   "source": [
    "last_ind = len(influenza_genome)\n",
    "i = last_ind - 31\n",
    "for x in influenza_genome[(last_ind - 30):last_ind]:\n",
    "    i += 1\n",
    "    if x % 5 == 0:\n",
    "        influenza_genome[i] = \"a\""
   ]
  },
  {
   "cell_type": "code",
   "execution_count": 6,
   "id": "6627739d",
   "metadata": {},
   "outputs": [
    {
     "data": {
      "text/plain": [
       "['a',\n",
       " 'a',\n",
       " 23,\n",
       " 29,\n",
       " 'a',\n",
       " 'a',\n",
       " 'a',\n",
       " 13,\n",
       " 2,\n",
       " 11,\n",
       " 'a',\n",
       " 9,\n",
       " 2,\n",
       " 'a',\n",
       " 27,\n",
       " 14,\n",
       " 11,\n",
       " 'a',\n",
       " 19,\n",
       " 1,\n",
       " 12,\n",
       " 'a',\n",
       " 8,\n",
       " 6,\n",
       " 16,\n",
       " 3,\n",
       " 'a',\n",
       " 'a',\n",
       " 'a',\n",
       " 24]"
      ]
     },
     "execution_count": 6,
     "metadata": {},
     "output_type": "execute_result"
    }
   ],
   "source": [
    "influenza_genome[(last_ind - 30):last_ind]"
   ]
  },
  {
   "cell_type": "markdown",
   "id": "0d11e097",
   "metadata": {},
   "source": [
    "### 1.4 - for all elements between index 200 and 300, if the value of the element is divisable by BOTH 3 AND 5, replace the value with the 10."
   ]
  },
  {
   "cell_type": "code",
   "execution_count": 7,
   "id": "92b8854e",
   "metadata": {},
   "outputs": [],
   "source": [
    "i = 200\n",
    "for x in influenza_genome[201:300]:\n",
    "    i += 1\n",
    "    if x % 3 == 0 and x % 5 == 0:\n",
    "        influenza_genome[i] = 10"
   ]
  },
  {
   "cell_type": "code",
   "execution_count": 8,
   "id": "eedc9b1e",
   "metadata": {},
   "outputs": [
    {
     "data": {
      "text/plain": [
       "[26,\n",
       " 25,\n",
       " 1,\n",
       " 24,\n",
       " 10,\n",
       " 27,\n",
       " 8,\n",
       " 23,\n",
       " 4,\n",
       " 10,\n",
       " 22,\n",
       " 1,\n",
       " 3,\n",
       " 7,\n",
       " 16,\n",
       " 18,\n",
       " 29,\n",
       " 11,\n",
       " 4,\n",
       " 1,\n",
       " 29,\n",
       " 10,\n",
       " 16,\n",
       " 10,\n",
       " 10,\n",
       " 2,\n",
       " 26,\n",
       " 26,\n",
       " 7,\n",
       " 10,\n",
       " 10,\n",
       " 6,\n",
       " 25,\n",
       " 4,\n",
       " 7,\n",
       " 12,\n",
       " 24,\n",
       " 5,\n",
       " 8,\n",
       " 23,\n",
       " 16,\n",
       " 8,\n",
       " 3,\n",
       " 16,\n",
       " 1,\n",
       " 9,\n",
       " 4,\n",
       " 27,\n",
       " 26,\n",
       " 9,\n",
       " 25,\n",
       " 7,\n",
       " 14,\n",
       " 27,\n",
       " 21,\n",
       " 27,\n",
       " 28,\n",
       " 2,\n",
       " 2,\n",
       " 27,\n",
       " 22,\n",
       " 3,\n",
       " 23,\n",
       " 14,\n",
       " 16,\n",
       " 10,\n",
       " 12,\n",
       " 14,\n",
       " 8,\n",
       " 10,\n",
       " 5,\n",
       " 16,\n",
       " 12,\n",
       " 24,\n",
       " 3,\n",
       " 28,\n",
       " 9,\n",
       " 21,\n",
       " 7,\n",
       " 25,\n",
       " 9,\n",
       " 5,\n",
       " 3,\n",
       " 27,\n",
       " 7,\n",
       " 29,\n",
       " 25,\n",
       " 13,\n",
       " 11,\n",
       " 25,\n",
       " 21,\n",
       " 2,\n",
       " 14,\n",
       " 8,\n",
       " 17,\n",
       " 18,\n",
       " 23,\n",
       " 22,\n",
       " 12]"
      ]
     },
     "execution_count": 8,
     "metadata": {},
     "output_type": "execute_result"
    }
   ],
   "source": [
    "influenza_genome[201:300]"
   ]
  },
  {
   "cell_type": "markdown",
   "id": "90b85ca4",
   "metadata": {},
   "source": [
    "------------------"
   ]
  },
  {
   "cell_type": "markdown",
   "id": "2a224d02",
   "metadata": {},
   "source": [
    "# Problem 2 Loops within loops"
   ]
  },
  {
   "cell_type": "markdown",
   "id": "c024259f",
   "metadata": {},
   "source": [
    "### 2.1 - Create a for loop that iterates over items index 234 through 237 and prints each value (ie there should be 4 items)"
   ]
  },
  {
   "cell_type": "code",
   "execution_count": 9,
   "id": "4b5c1e06",
   "metadata": {},
   "outputs": [
    {
     "name": "stdout",
     "output_type": "stream",
     "text": [
      "4\n",
      "7\n",
      "12\n",
      "24\n"
     ]
    }
   ],
   "source": [
    "for x in influenza_genome[234:238]:\n",
    "    print(x)"
   ]
  },
  {
   "cell_type": "markdown",
   "id": "8ea55728",
   "metadata": {},
   "source": [
    "### 2.2 - Create a while loop that iterates over items index 234 through 237 and prints each value (ie there should be 4 items)"
   ]
  },
  {
   "cell_type": "code",
   "execution_count": 10,
   "id": "f04efbb0",
   "metadata": {},
   "outputs": [
    {
     "name": "stdout",
     "output_type": "stream",
     "text": [
      "4\n",
      "7\n",
      "12\n",
      "24\n"
     ]
    }
   ],
   "source": [
    "i = 234\n",
    "while i < 238:\n",
    "    print(influenza_genome[i])\n",
    "    i += 1"
   ]
  },
  {
   "cell_type": "markdown",
   "id": "77ea271f",
   "metadata": {},
   "source": [
    "### 2.3 Create a for loop that iterates over items index 234 through 237 and if the index is 236 print the item 7 times."
   ]
  },
  {
   "cell_type": "code",
   "execution_count": 11,
   "id": "5a6b4737",
   "metadata": {},
   "outputs": [
    {
     "name": "stdout",
     "output_type": "stream",
     "text": [
      "12\n",
      "12\n",
      "12\n",
      "12\n",
      "12\n",
      "12\n",
      "12\n"
     ]
    }
   ],
   "source": [
    "i = 233\n",
    "for x in influenza_genome[234:238]:\n",
    "    i += 1\n",
    "    if i == 236:\n",
    "        j = 0\n",
    "        while j < 7:\n",
    "            print(x)\n",
    "            j += 1"
   ]
  },
  {
   "cell_type": "markdown",
   "id": "534c1c66",
   "metadata": {},
   "source": [
    "---------------"
   ]
  },
  {
   "cell_type": "markdown",
   "id": "d88f6bce",
   "metadata": {},
   "source": [
    "# Problem 3 Functions"
   ]
  },
  {
   "cell_type": "markdown",
   "id": "a7f24efb",
   "metadata": {},
   "source": [
    "### 3.1 - write a function, that takes in the array as an argument, and outputs 10 values from the dataset, spaced out by indexes that are 25 apart (ie 0, 25, 50, etc)"
   ]
  },
  {
   "cell_type": "code",
   "execution_count": 12,
   "id": "223527af",
   "metadata": {},
   "outputs": [],
   "source": [
    "def ten_space_25(array):\n",
    "    output = []\n",
    "    i = 0  #while loop counter\n",
    "    j = 0  #index of the array\n",
    "    while i < 10:\n",
    "        output.append(array[j])\n",
    "        i += 1\n",
    "        j += 25\n",
    "    return output"
   ]
  },
  {
   "cell_type": "code",
   "execution_count": 13,
   "id": "be499bb6",
   "metadata": {},
   "outputs": [
    {
     "data": {
      "text/plain": [
       "[19, 22, 11, 18, 16, 9, 13, 24, 21, 10]"
      ]
     },
     "execution_count": 13,
     "metadata": {},
     "output_type": "execute_result"
    }
   ],
   "source": [
    "ten_space_25(influenza_genome)"
   ]
  },
  {
   "cell_type": "markdown",
   "id": "ac64d951",
   "metadata": {},
   "source": [
    "### 3.2 - write a function that takes in the dataset as an argument and outputs 20 values from the dataset, spaced out by indexes that are y apart (ie you can decide how far apart they should be iterated as long as they dont exceed the length of the dataset)"
   ]
  },
  {
   "cell_type": "code",
   "execution_count": 14,
   "id": "a7c6b662",
   "metadata": {},
   "outputs": [],
   "source": [
    "def twenty_space_y(array):\n",
    "    output = []\n",
    "    i = 0  #while loop counter\n",
    "    j = 0  #index of the array\n",
    "    y = 7  #spacing between indexes\n",
    "    while i < 20:\n",
    "        output.append(array[j])\n",
    "        i += 1\n",
    "        j += y\n",
    "    return output"
   ]
  },
  {
   "cell_type": "code",
   "execution_count": 15,
   "id": "a9bb425e",
   "metadata": {},
   "outputs": [
    {
     "data": {
      "text/plain": [
       "[19, 20, 63, 72, 4, 29, 26, 9, 5, 6, 21, 7, 24, 9, 29, 21, 6, 27, 12, 25]"
      ]
     },
     "execution_count": 15,
     "metadata": {},
     "output_type": "execute_result"
    }
   ],
   "source": [
    "twenty_space_y(influenza_genome)"
   ]
  },
  {
   "cell_type": "markdown",
   "id": "cded9a6a",
   "metadata": {},
   "source": [
    "### 3.3 - write a function that takes the output from the function from 3.2 as an argument, then only prints out every other item (ie there should only be 10 outputs)"
   ]
  },
  {
   "cell_type": "code",
   "execution_count": 16,
   "id": "c6e30535",
   "metadata": {},
   "outputs": [],
   "source": [
    "def print_even_indexes(array):\n",
    "    i = -1  #Variable to track the index\n",
    "    for x in array:\n",
    "        i += 1\n",
    "        if i % 2 == 0:  #if the index is even it will add it to the output\n",
    "            print(array[i])"
   ]
  },
  {
   "cell_type": "code",
   "execution_count": 17,
   "id": "91455664",
   "metadata": {},
   "outputs": [
    {
     "name": "stdout",
     "output_type": "stream",
     "text": [
      "19\n",
      "63\n",
      "4\n",
      "26\n",
      "5\n",
      "21\n",
      "24\n",
      "29\n",
      "6\n",
      "12\n"
     ]
    }
   ],
   "source": [
    "output_part2 = twenty_space_y(influenza_genome)\n",
    "print_even_indexes(output_part2)"
   ]
  },
  {
   "cell_type": "markdown",
   "id": "d9f6d5cf",
   "metadata": {},
   "source": [
    "-----------------"
   ]
  },
  {
   "cell_type": "markdown",
   "id": "0cbbfc28",
   "metadata": {},
   "source": [
    "# Problem 4 Putting it all together"
   ]
  },
  {
   "cell_type": "markdown",
   "id": "ee8fd973",
   "metadata": {},
   "source": [
    "### Write a function that implements the code from problem 1.4, then implements the code from problem 2.3.\n",
    "### The function should create a modified version of the influenza_genome list as per 1.4, then print the section described in problem 2.3. "
   ]
  },
  {
   "cell_type": "code",
   "execution_count": 18,
   "id": "fa126eed",
   "metadata": {},
   "outputs": [],
   "source": [
    "def mod_and_print():\n",
    "    i = 200\n",
    "    for x in influenza_genome[201:300]:\n",
    "        i += 1\n",
    "        if x % 3 == 0 and x % 5 == 0:\n",
    "            influenza_genome[i] = 10\n",
    "        if i == 236:\n",
    "            j = 0\n",
    "            while j < 7:\n",
    "                print(x)\n",
    "                j += 1"
   ]
  },
  {
   "cell_type": "code",
   "execution_count": 19,
   "id": "3ffa9c97",
   "metadata": {},
   "outputs": [
    {
     "name": "stdout",
     "output_type": "stream",
     "text": [
      "12\n",
      "12\n",
      "12\n",
      "12\n",
      "12\n",
      "12\n",
      "12\n"
     ]
    }
   ],
   "source": [
    "mod_and_print()"
   ]
  },
  {
   "cell_type": "code",
   "execution_count": null,
   "id": "8f2eff45",
   "metadata": {},
   "outputs": [],
   "source": []
  }
 ],
 "metadata": {
  "kernelspec": {
   "display_name": "Python 3 (ipykernel)",
   "language": "python",
   "name": "python3"
  },
  "language_info": {
   "codemirror_mode": {
    "name": "ipython",
    "version": 3
   },
   "file_extension": ".py",
   "mimetype": "text/x-python",
   "name": "python",
   "nbconvert_exporter": "python",
   "pygments_lexer": "ipython3",
   "version": "3.9.12"
  },
  "vscode": {
   "interpreter": {
    "hash": "acb7b9ebd37b6fa8637fd3027108c77b651ce6aaaec9072fd616444dc2b10c19"
   }
  }
 },
 "nbformat": 4,
 "nbformat_minor": 5
}
